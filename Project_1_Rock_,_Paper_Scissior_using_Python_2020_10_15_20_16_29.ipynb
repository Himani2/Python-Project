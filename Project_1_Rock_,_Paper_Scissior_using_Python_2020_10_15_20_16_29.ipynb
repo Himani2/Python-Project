{
  "nbformat": 4,
  "nbformat_minor": 0,
  "metadata": {
    "colab": {
      "name": "Project 1 -Rock , Paper Scissior using Python 2020-10-15 20-16-29.ipynb",
      "provenance": [],
      "authorship_tag": "ABX9TyNx1kILHLVBogkpNAK/nj8r",
      "include_colab_link": true
    },
    "kernelspec": {
      "name": "python3",
      "display_name": "Python 3"
    }
  },
  "cells": [
    {
      "cell_type": "markdown",
      "metadata": {
        "id": "view-in-github",
        "colab_type": "text"
      },
      "source": [
        "<a href=\"https://colab.research.google.com/github/Himani2/Python-Project/blob/main/Project_1_Rock_%2C_Paper_Scissior_using_Python_2020_10_15_20_16_29.ipynb\" target=\"_parent\"><img src=\"https://colab.research.google.com/assets/colab-badge.svg\" alt=\"Open In Colab\"/></a>"
      ]
    },
    {
      "cell_type": "markdown",
      "metadata": {
        "id": "_ePjkwWysEE1"
      },
      "source": [
        "**Rock paper scissor Game Using Python - Project 1**"
      ]
    },
    {
      "cell_type": "code",
      "metadata": {
        "id": "cOezaDPUsS89"
      },
      "source": [
        "from random import randint"
      ],
      "execution_count": 1,
      "outputs": []
    },
    {
      "cell_type": "code",
      "metadata": {
        "id": "bPjdedbHssQV"
      },
      "source": [
        "#create a list of play options\n",
        "t=[\"Rock\",\"Papers\",\"Scissors\"]"
      ],
      "execution_count": 2,
      "outputs": []
    },
    {
      "cell_type": "code",
      "metadata": {
        "id": "Nr4hnlKYs_UO"
      },
      "source": [
        "#assign a random play to computer\n",
        "computer=t[randint(0,2)]"
      ],
      "execution_count": 3,
      "outputs": []
    },
    {
      "cell_type": "code",
      "metadata": {
        "id": "7PL1jv-wt2tZ"
      },
      "source": [
        "#set player to false\n",
        "player=False"
      ],
      "execution_count": null,
      "outputs": []
    },
    {
      "cell_type": "code",
      "metadata": {
        "id": "tXuMKAE0t8Xu",
        "outputId": "640770e7-e044-40e6-82cf-97a632fa38e6",
        "colab": {
          "base_uri": "https://localhost:8080/",
          "height": 84
        }
      },
      "source": [
        "while player == False:\n",
        "#set player to True\n",
        "    player = input(\"Rock, Paper, Scissors?\")\n",
        "    if player == computer:\n",
        "        print(\"Tie!\")\n",
        "    elif player == \"Rock\":\n",
        "        if computer == \"Paper\":\n",
        "            print(\"You lose!\", computer, \"covers\", player)\n",
        "        else:\n",
        "            print(\"You win!\", player, \"smashes\", computer)\n",
        "    elif player == \"Paper\":\n",
        "        if computer == \"Scissors\":\n",
        "            print(\"You lose!\", computer, \"cut\", player)\n",
        "        else:\n",
        "            print(\"You win!\", player, \"covers\", computer)\n",
        "    elif player == \"Scissors\":\n",
        "        if computer == \"Rock\":\n",
        "            print(\"You lose...\", computer, \"smashes\", player)\n",
        "        else:\n",
        "            print(\"You win!\", player, \"cut\", computer)\n",
        "    else:\n",
        "        print(\"That's not a valid play. Check your spelling!\")\n",
        "    #player was set to True, but we want it to be False so the loop continues\n",
        "    player = False\n",
        "    computer = t[randint(0,2)]"
      ],
      "execution_count": null,
      "outputs": [
        {
          "output_type": "stream",
          "text": [
            "You win! Paper covers Rock\n",
            "You win! Scissors cut Papers\n",
            "You lose! Scissors cut Paper\n",
            "You win! Rock smashes Scissors\n"
          ],
          "name": "stdout"
        }
      ]
    }
  ]
}